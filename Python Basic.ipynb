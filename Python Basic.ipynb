{
 "cells": [
  {
   "cell_type": "markdown",
   "id": "bd2b1ea7",
   "metadata": {},
   "source": [
    "## <font color=blue>문자열(String) 자료형</font>"
   ]
  },
  {
   "cell_type": "markdown",
   "id": "8018b58a",
   "metadata": {},
   "source": [
    "### ※ 문자 개수 세기: count"
   ]
  },
  {
   "cell_type": "code",
   "execution_count": 1,
   "id": "d03cdc29",
   "metadata": {},
   "outputs": [
    {
     "data": {
      "text/plain": [
       "2"
      ]
     },
     "execution_count": 1,
     "metadata": {},
     "output_type": "execute_result"
    }
   ],
   "source": [
    "a = 'apple'\n",
    "b = a.count('p')\n",
    "b"
   ]
  },
  {
   "cell_type": "markdown",
   "id": "efc81fbc",
   "metadata": {},
   "source": [
    "### ※ 문자 위치 찾기: find\n",
    "    → 1번째 해당 문자 위치 return"
   ]
  },
  {
   "cell_type": "code",
   "execution_count": 2,
   "id": "eb238201",
   "metadata": {},
   "outputs": [
    {
     "data": {
      "text/plain": [
       "1"
      ]
     },
     "execution_count": 2,
     "metadata": {},
     "output_type": "execute_result"
    }
   ],
   "source": [
    "a = 'apple'\n",
    "b = a.find('p')\n",
    "b"
   ]
  },
  {
   "cell_type": "markdown",
   "id": "49acdfd7",
   "metadata": {},
   "source": [
    "### ※ 문자열 삽입: join\n",
    "    → 문자열 사이마다 특정 문자 삽입"
   ]
  },
  {
   "cell_type": "code",
   "execution_count": 3,
   "id": "beb0387e",
   "metadata": {},
   "outputs": [
    {
     "data": {
      "text/plain": [
       "'a,p,p,l,e'"
      ]
     },
     "execution_count": 3,
     "metadata": {},
     "output_type": "execute_result"
    }
   ],
   "source": [
    "a = 'apple'\n",
    "b = ','.join(a)\n",
    "b"
   ]
  },
  {
   "cell_type": "markdown",
   "id": "2d5dd97c",
   "metadata": {},
   "source": [
    "### ※ 공백 지우기\n",
    "    ① lstrip: 문자열 왼쪽 공백 제거\n",
    "    ② rstrip: 문자열 오른쪽 공백 제거\n",
    "    ③ strip: 문자열 양쪽 공백 제거"
   ]
  },
  {
   "cell_type": "code",
   "execution_count": 4,
   "id": "42ff2847",
   "metadata": {},
   "outputs": [
    {
     "name": "stdout",
     "output_type": "stream",
     "text": [
      "apple \n",
      " apple\n",
      "apple\n"
     ]
    }
   ],
   "source": [
    "a = ' apple '\n",
    "b = a.lstrip()\n",
    "c = a.rstrip()\n",
    "d = a.strip()\n",
    "\n",
    "print(b)\n",
    "print(c)\n",
    "print(d)"
   ]
  },
  {
   "cell_type": "markdown",
   "id": "6850e2ae",
   "metadata": {},
   "source": [
    "### ※ 문자열 바꾸기: replace"
   ]
  },
  {
   "cell_type": "code",
   "execution_count": 5,
   "id": "51f7e439",
   "metadata": {},
   "outputs": [
    {
     "data": {
      "text/plain": [
       "'I like to play baseball'"
      ]
     },
     "execution_count": 5,
     "metadata": {},
     "output_type": "execute_result"
    }
   ],
   "source": [
    "a = 'I like to play soccer'\n",
    "b = a.replace('soccer', 'baseball')\n",
    "b"
   ]
  },
  {
   "cell_type": "markdown",
   "id": "323dc759",
   "metadata": {},
   "source": [
    "### ※ 문자열 나누기: split"
   ]
  },
  {
   "cell_type": "code",
   "execution_count": 6,
   "id": "a9932519",
   "metadata": {},
   "outputs": [
    {
     "name": "stdout",
     "output_type": "stream",
     "text": [
      "['I', 'can', 'do', 'it,', 'We', 'can', 'do', 'it']\n",
      "['I can do it', ' We can do it']\n"
     ]
    }
   ],
   "source": [
    "a = 'I can do it, We can do it'\n",
    "b = a.split()\n",
    "c = a.split(',')\n",
    "\n",
    "print(b)\n",
    "print(c)"
   ]
  },
  {
   "cell_type": "markdown",
   "id": "ca2ae877",
   "metadata": {},
   "source": [
    "## <font color=blue>리스트(List) 자료형</font>"
   ]
  },
  {
   "cell_type": "markdown",
   "id": "6b95d86a",
   "metadata": {},
   "source": [
    "### ※ 리스트 요소 삭제: del"
   ]
  },
  {
   "cell_type": "code",
   "execution_count": 7,
   "id": "98770b24",
   "metadata": {},
   "outputs": [
    {
     "name": "stdout",
     "output_type": "stream",
     "text": [
      "[1, 3, 4, 5]\n"
     ]
    }
   ],
   "source": [
    "a = [1, 2, 3, 4, 5]\n",
    "del a[1]\n",
    "\n",
    "print(a)"
   ]
  },
  {
   "cell_type": "markdown",
   "id": "8b4510e7",
   "metadata": {},
   "source": [
    "### ※ 리스트 정렬: sort"
   ]
  },
  {
   "cell_type": "code",
   "execution_count": 8,
   "id": "a1f85f3c",
   "metadata": {},
   "outputs": [
    {
     "name": "stdout",
     "output_type": "stream",
     "text": [
      "[1, 2, 3, 4, 5]\n"
     ]
    }
   ],
   "source": [
    "a = [1, 2, 5, 4, 3]\n",
    "a.sort()\n",
    "\n",
    "print(a)"
   ]
  },
  {
   "cell_type": "markdown",
   "id": "87b2bdae",
   "metadata": {},
   "source": [
    "### ※ 리스트 요소 위치 반환: index"
   ]
  },
  {
   "cell_type": "code",
   "execution_count": 9,
   "id": "10e3a1b1",
   "metadata": {},
   "outputs": [
    {
     "name": "stdout",
     "output_type": "stream",
     "text": [
      "4\n",
      "2\n"
     ]
    }
   ],
   "source": [
    "a = [5, 4, 3, 2, 1]\n",
    "b = a.index(1)\n",
    "c = a.index(3)\n",
    "\n",
    "print(b)\n",
    "print(c)"
   ]
  },
  {
   "cell_type": "markdown",
   "id": "6d04b5f7",
   "metadata": {},
   "source": [
    "### ※ 리스트 요소 삽입: insert(x, y)\n",
    "    → x 인덱스에 y값 삽입"
   ]
  },
  {
   "cell_type": "code",
   "execution_count": 10,
   "id": "e25e77b3",
   "metadata": {},
   "outputs": [
    {
     "name": "stdout",
     "output_type": "stream",
     "text": [
      "[1, 10, 2, 3]\n"
     ]
    }
   ],
   "source": [
    "a = [1, 2, 3]\n",
    "a.insert(1,10)\n",
    "\n",
    "print(a)"
   ]
  },
  {
   "cell_type": "markdown",
   "id": "23a2c94e",
   "metadata": {},
   "source": [
    "### ※ 리스트 요소 제거: remove(x)\n",
    "    → 첫 번째로 등장하는 x를 제거"
   ]
  },
  {
   "cell_type": "code",
   "execution_count": 11,
   "id": "6ba324c1",
   "metadata": {},
   "outputs": [
    {
     "name": "stdout",
     "output_type": "stream",
     "text": [
      "[4, 3, 2, 1, 10, 9, 8, 7, 6, 5]\n"
     ]
    }
   ],
   "source": [
    "a = [5, 4, 3, 2, 1, 10, 9, 8, 7, 6, 5]\n",
    "a.remove(5)\n",
    "\n",
    "print(a)"
   ]
  },
  {
   "cell_type": "markdown",
   "id": "e98b72ce",
   "metadata": {},
   "source": [
    "### ※ 리스트 요소 뽑기: pop(x)\n",
    "    → 인덱스가 x인 요소 추출, 해당 리스트에서 추출한 값은 제거(비복원 추출)"
   ]
  },
  {
   "cell_type": "code",
   "execution_count": 12,
   "id": "ebb28342",
   "metadata": {},
   "outputs": [
    {
     "name": "stdout",
     "output_type": "stream",
     "text": [
      "[5, 3, 2, 1, 10, 9, 8, 7, 6, 5]\n",
      "4\n"
     ]
    }
   ],
   "source": [
    "a = [5, 4, 3, 2, 1, 10, 9, 8, 7, 6, 5]\n",
    "b = a.pop(1)\n",
    "\n",
    "print(a)\n",
    "print(b)"
   ]
  },
  {
   "cell_type": "markdown",
   "id": "0c32c9cb",
   "metadata": {},
   "source": [
    "### ※ 리스트 요소 개수 세기: count(x)"
   ]
  },
  {
   "cell_type": "code",
   "execution_count": 13,
   "id": "c9ced6cc",
   "metadata": {},
   "outputs": [
    {
     "name": "stdout",
     "output_type": "stream",
     "text": [
      "2\n"
     ]
    }
   ],
   "source": [
    "a = [5, 4, 3, 2, 1, 10, 9, 8, 7, 6, 5]\n",
    "b = a.count(5)\n",
    "\n",
    "print(b)"
   ]
  },
  {
   "cell_type": "markdown",
   "id": "32fc2349",
   "metadata": {},
   "source": [
    "## <font color=blue>딕셔너리(Dictionary) 자료형</font>"
   ]
  },
  {
   "cell_type": "markdown",
   "id": "19254062",
   "metadata": {},
   "source": [
    "### ※ 딕셔너리 키: keys()"
   ]
  },
  {
   "cell_type": "code",
   "execution_count": 14,
   "id": "b4e945ba",
   "metadata": {},
   "outputs": [
    {
     "name": "stdout",
     "output_type": "stream",
     "text": [
      "dict_keys(['name', 'age', 'job'])\n",
      "['name', 'age', 'job']\n"
     ]
    }
   ],
   "source": [
    "a = {'name': 'Matthew', 'age': 30, 'job': 'Engineer'}\n",
    "b = a.keys()\n",
    "c = list(b)\n",
    "\n",
    "print(b)\n",
    "print(c)"
   ]
  },
  {
   "cell_type": "markdown",
   "id": "0102cf3d",
   "metadata": {},
   "source": [
    "### ※ 딕셔너리 키: values()"
   ]
  },
  {
   "cell_type": "code",
   "execution_count": 15,
   "id": "909ae909",
   "metadata": {},
   "outputs": [
    {
     "name": "stdout",
     "output_type": "stream",
     "text": [
      "dict_values(['Matthew', 30, 'Engineer'])\n",
      "['Matthew', 30, 'Engineer']\n"
     ]
    }
   ],
   "source": [
    "a = {'name': 'Matthew', 'age': 30, 'job': 'Engineer'}\n",
    "b = a.values()\n",
    "c = list(b)\n",
    "\n",
    "print(b)\n",
    "print(c)"
   ]
  },
  {
   "cell_type": "markdown",
   "id": "78cb0610",
   "metadata": {},
   "source": [
    "### ※ 딕셔너리 (키, 값): items()"
   ]
  },
  {
   "cell_type": "code",
   "execution_count": 16,
   "id": "a90aedda",
   "metadata": {},
   "outputs": [
    {
     "name": "stdout",
     "output_type": "stream",
     "text": [
      "dict_items([('name', 'Matthew'), ('age', 30), ('job', 'Engineer')])\n",
      "[('name', 'Matthew'), ('age', 30), ('job', 'Engineer')]\n"
     ]
    }
   ],
   "source": [
    "a = {'name': 'Matthew', 'age': 30, 'job': 'Engineer'}\n",
    "b = a.items()\n",
    "c = list(b)\n",
    "\n",
    "print(b)\n",
    "print(c)"
   ]
  },
  {
   "cell_type": "markdown",
   "id": "3e601e2f",
   "metadata": {},
   "source": [
    "### ※ 딕셔너리 키로 값 호출: get()\n",
    "    → get(x,y): x라는 키가 없으면 y값 return"
   ]
  },
  {
   "cell_type": "code",
   "execution_count": 17,
   "id": "223abe18",
   "metadata": {},
   "outputs": [
    {
     "name": "stdout",
     "output_type": "stream",
     "text": [
      "Matthew\n",
      "Matthew\n",
      "no data\n"
     ]
    }
   ],
   "source": [
    "a = {'name': 'Matthew', 'age': 30, 'job': 'Engineer'}\n",
    "b = a.get('name')\n",
    "c = a['name']\n",
    "d = a.get('birth', 'no data')\n",
    "\n",
    "print(b)\n",
    "print(c)\n",
    "print(d)"
   ]
  },
  {
   "cell_type": "code",
   "execution_count": null,
   "id": "611d40ab",
   "metadata": {},
   "outputs": [],
   "source": []
  }
 ],
 "metadata": {
  "kernelspec": {
   "display_name": "Python 3 (ipykernel)",
   "language": "python",
   "name": "python3"
  },
  "language_info": {
   "codemirror_mode": {
    "name": "ipython",
    "version": 3
   },
   "file_extension": ".py",
   "mimetype": "text/x-python",
   "name": "python",
   "nbconvert_exporter": "python",
   "pygments_lexer": "ipython3",
   "version": "3.10.9"
  }
 },
 "nbformat": 4,
 "nbformat_minor": 5
}
